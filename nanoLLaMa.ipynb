{
  "nbformat": 4,
  "nbformat_minor": 0,
  "metadata": {
    "colab": {
      "provenance": []
    },
    "kernelspec": {
      "name": "python3",
      "display_name": "Python 3"
    },
    "language_info": {
      "name": "python"
    }
  },
  "cells": [
    {
      "cell_type": "markdown",
      "source": [
        "Libraries"
      ],
      "metadata": {
        "id": "iFYlpTwD86Yb"
      }
    },
    {
      "cell_type": "code",
      "execution_count": 1,
      "metadata": {
        "id": "Vft75Nq8XVO7"
      },
      "outputs": [],
      "source": [
        "import torch\n",
        "import torch.nn as nn\n",
        "import torch.nn.functional as F\n",
        "import numpy as np\n",
        "import pandas as pd\n",
        "import time\n",
        "import matplotlib.pyplot as plt"
      ]
    },
    {
      "cell_type": "markdown",
      "source": [
        "Dataset"
      ],
      "metadata": {
        "id": "rS4Enptf88OZ"
      }
    },
    {
      "cell_type": "code",
      "source": [
        "txt = open('tiny_shakespeare.txt', 'r').read()\n",
        "# txt[0:10], list(txt)[:10], list(set(txt))[:10]\n",
        "vocab = sorted(list(set(txt)))\n",
        "itos = {i:ch for i, ch in enumerate(vocab)}\n",
        "stoi = {ch:i for i, ch in enumerate(vocab)}"
      ],
      "metadata": {
        "id": "H_QzqlRiXjx9"
      },
      "execution_count": 3,
      "outputs": []
    },
    {
      "cell_type": "markdown",
      "source": [
        "Hyperparameters"
      ],
      "metadata": {
        "id": "aH3cXeO9A-Vn"
      }
    },
    {
      "cell_type": "code",
      "source": [
        "hparams = {'vocab_size': len(vocab)}"
      ],
      "metadata": {
        "id": "kM9oarsd-90Z"
      },
      "execution_count": 4,
      "outputs": []
    },
    {
      "cell_type": "markdown",
      "source": [
        "Character Level Tokenizer"
      ],
      "metadata": {
        "id": "HK4EA6sb-wu5"
      }
    },
    {
      "cell_type": "code",
      "source": [
        "def encode(s):\n",
        "    return [stoi[i] for i in s]\n",
        "\n",
        "def decode(l):\n",
        "    return ''.join(itos[i] for i in l)\n",
        "decode(encode('test'))"
      ],
      "metadata": {
        "id": "ob4dq7xpZRbS",
        "colab": {
          "base_uri": "https://localhost:8080/",
          "height": 36
        },
        "outputId": "b6017a11-b534-4caf-ca67-3369c5109b44"
      },
      "execution_count": 5,
      "outputs": [
        {
          "output_type": "execute_result",
          "data": {
            "text/plain": [
              "'test'"
            ],
            "application/vnd.google.colaboratory.intrinsic+json": {
              "type": "string"
            }
          },
          "metadata": {},
          "execution_count": 5
        }
      ]
    },
    {
      "cell_type": "code",
      "source": [
        "dataset = torch.tensor(encode(txt), dtype=torch.int8)\n",
        "dataset.dtype, dataset.shape, dataset[:5]"
      ],
      "metadata": {
        "colab": {
          "base_uri": "https://localhost:8080/"
        },
        "id": "6Hid672X_373",
        "outputId": "094db7f4-68ea-46ca-843c-08f5d0a89222"
      },
      "execution_count": 6,
      "outputs": [
        {
          "output_type": "execute_result",
          "data": {
            "text/plain": [
              "(torch.int8,\n",
              " torch.Size([1115394]),\n",
              " tensor([18, 47, 56, 57, 58], dtype=torch.int8))"
            ]
          },
          "metadata": {},
          "execution_count": 6
        }
      ]
    },
    {
      "cell_type": "markdown",
      "source": [
        "Batches"
      ],
      "metadata": {
        "id": "AtL4NbuVBHgA"
      }
    },
    {
      "cell_type": "code",
      "source": [
        "hparams.update({'batch_size': 8, 'context_window': 16})"
      ],
      "metadata": {
        "id": "c3gCer5GAcKP"
      },
      "execution_count": 7,
      "outputs": []
    },
    {
      "cell_type": "code",
      "source": [
        "def create_batch(dataset, split, batch_size, context_window):\n",
        "    # 80, 10, 10 split\n",
        "    train = dataset[:int(.8*len(dataset))]\n",
        "    val = dataset[int(.8*len(dataset)):int(.9*len(dataset))]\n",
        "    test = dataset[int(.9*len(dataset)):]\n",
        "\n",
        "    batch = train if split=='train' else (val if split=='val' else test)\n",
        "\n",
        "    idx = torch.randint(0, batch.size(0)-context_window-1, (batch_size,))\n",
        "    x = torch.stack([batch[i:i+context_window] for i in idx]).long()\n",
        "    y = torch.stack([batch[i+1:i+context_window+1] for i in idx]).long()\n",
        "    yield (x, y)"
      ],
      "metadata": {
        "id": "f9ZFtbsRBl7P"
      },
      "execution_count": 8,
      "outputs": []
    },
    {
      "cell_type": "code",
      "source": [
        "x, y = next(create_batch(dataset, 'val', hparams['batch_size'], hparams['context_window']))\n",
        "# print(x, y)\n",
        "[decode(i) for i in x.tolist()], [decode(i) for i in y.tolist()]"
      ],
      "metadata": {
        "colab": {
          "base_uri": "https://localhost:8080/"
        },
        "id": "5lYOjasOKgQQ",
        "outputId": "0d620919-6970-4213-c455-f6dae6b3b9e5"
      },
      "execution_count": 9,
      "outputs": [
        {
          "output_type": "execute_result",
          "data": {
            "text/plain": [
              "(['nk you have made',\n",
              "  'on or reprieve\\nF',\n",
              "  ', leave that lab',\n",
              "  'and by.\\nI hope i',\n",
              "  'Hark you, sir: I',\n",
              "  's he spake again',\n",
              "  'ut he was.\\n\\nLUCI',\n",
              "  'd personally acc'],\n",
              " ['k you have made ',\n",
              "  'n or reprieve\\nFo',\n",
              "  ' leave that labo',\n",
              "  'nd by.\\nI hope it',\n",
              "  \"ark you, sir: I'\",\n",
              "  ' he spake agains',\n",
              "  't he was.\\n\\nLUCIO',\n",
              "  ' personally accu'])"
            ]
          },
          "metadata": {},
          "execution_count": 9
        }
      ]
    },
    {
      "cell_type": "code",
      "source": [
        "hparams.update({'embed_dim': 128})"
      ],
      "metadata": {
        "id": "i2eqqiLgNRB8"
      },
      "execution_count": 10,
      "outputs": []
    },
    {
      "cell_type": "markdown",
      "source": [
        "RMS Pre-Normalization\n",
        "https://github.com/meta-llama/llama/blob/main/llama/model.py#L34-L77"
      ],
      "metadata": {
        "id": "04umsUCfWnWn"
      }
    },
    {
      "cell_type": "code",
      "source": [
        "class RMSNorm(nn.Module):\n",
        "    def __init__(self, dim, eps=1e-6):\n",
        "        super(RMSNorm, self).__init__()\n",
        "        self.eps = eps\n",
        "        self.register_parameter('scale', nn.Parameter(torch.ones(dim)))\n",
        "\n",
        "    def _norm(self, x):\n",
        "        return x*torch.rsqrt(x.pow(2).mean(-1, keepdim=True) + self.eps)\n",
        "\n",
        "    def forward(self, x):\n",
        "        return (self._norm(x.float()).type_as(x)) * self.scale\n"
      ],
      "metadata": {
        "id": "VVbdC-uHWsNc"
      },
      "execution_count": 32,
      "outputs": []
    },
    {
      "cell_type": "markdown",
      "source": [
        "Rotary Positional Embeddings - RoPE"
      ],
      "metadata": {
        "id": "CyAoionIi231"
      }
    },
    {
      "cell_type": "markdown",
      "source": [
        "$q_m^T k_n = (R^d_{\\Theta, m}W_q x_m)^T (R^d_{\\Theta, n} W_k x_n) = x^T W_q R^d_{\\Theta, n-m} W_k x_n.$"
      ],
      "metadata": {
        "id": "tw4zF7cOr1-e"
      }
    },
    {
      "cell_type": "code",
      "source": [
        "hparams.update({'num_heads': 8})"
      ],
      "metadata": {
        "id": "CkerYyISqIIf"
      },
      "execution_count": 12,
      "outputs": []
    },
    {
      "cell_type": "code",
      "source": [
        "def rotary_matrix(context_window, embedding_dim):\n",
        "    R = torch.zeros((context_window, embedding_dim, embedding_dim), requires_grad=False)\n",
        "    for position in range(context_window):\n",
        "        for i in range(embedding_dim//2):\n",
        "            theta = 10000. ** (-2.*(i - 1) / embedding_dim)\n",
        "            m_theta = position * theta\n",
        "            R[position, 2*i,2*i] = np.cos(m_theta)\n",
        "            R[position, 2*i,2*i+1] = - np.sin(m_theta)\n",
        "            R[position, 2*i+1,2*i] = np.sin(m_theta)\n",
        "            R[position, 2*i+1,2*i+1] = np.cos(m_theta)\n",
        "    return R"
      ],
      "metadata": {
        "id": "IzjATUia86v2"
      },
      "execution_count": 25,
      "outputs": []
    },
    {
      "cell_type": "code",
      "source": [
        "class RoPEMaskedAttentionHead(nn.Module):\n",
        "    def __init__(self, hparams):\n",
        "        super().__init__()\n",
        "        self.hparams = hparams\n",
        "        self.w_q = nn.Linear(hparams['embed_dim'], hparams['embed_dim'], bias=False)\n",
        "        self.w_k = nn.Linear(hparams['embed_dim'], hparams['embed_dim'], bias=False)\n",
        "        self.w_v = nn.Linear(hparams['embed_dim'], hparams['embed_dim'], bias=False)\n",
        "\n",
        "        self.R = rotary_matrix(hparams['context_window'], hparams['embed_dim'])\n",
        "\n",
        "    def forward(self, x, return_attn_weights=False):\n",
        "        b,m,d = x.shape # batch_size, sequence_length/context_window, embedding dimension\n",
        "\n",
        "        q = self.w_q(x)\n",
        "        k = self.w_k(x)\n",
        "        v = self.w_v(x)\n",
        "\n",
        "        q_rotated = (torch.bmm(q.transpose(0,1), self.R[:m])).transpose(0,1)\n",
        "        k_rotated = (torch.bmm(k.transpose(0,1), self.R[:m])).transpose(0,1)\n",
        "\n",
        "        activations = F.scaled_dot_product_attention(\n",
        "            q_rotated,k_rotated,v,dropout_p =.1, is_causal=True\n",
        "        )\n",
        "\n",
        "        if return_attn_weights:\n",
        "            attn_mask = torch.tril(torch.ones((m,m)), diagonal=0)\n",
        "            attn_weights = torch.bmm(q_rotated, k_rotated.transpose(1,2)) / np.sqrt(d) + attn_mask\n",
        "            attn_weights = F.softmax(attn_weights, dim=-1)\n",
        "            return activations, attn_weights\n",
        "        return activations"
      ],
      "metadata": {
        "id": "uZHqZGZHkrlb"
      },
      "execution_count": 26,
      "outputs": []
    },
    {
      "cell_type": "code",
      "source": [
        "class RoPEMaskedMultiheadAttention(nn.Module):\n",
        "    def __init__(self, hparams):\n",
        "        super().__init__()\n",
        "        self.hparams = hparams\n",
        "        self.heads = nn.ModuleList([\n",
        "            RoPEMaskedAttentionHead(hparams) for _ in range(hparams['num_heads'])\n",
        "        ])\n",
        "        self.linear = nn.Linear(hparams['num_heads'] * hparams['embed_dim'], hparams['embed_dim'])\n",
        "        self.dropout = nn.Dropout(.1)\n",
        "\n",
        "    def forward(self, x):\n",
        "        heads = [h(x) for h in self.heads]\n",
        "        x = torch.cat(heads, dim=-1)\n",
        "        x = self.linear(x)\n",
        "        x = self.dropout(x)\n",
        "        return x"
      ],
      "metadata": {
        "id": "tMKeNQw1xtGh"
      },
      "execution_count": 27,
      "outputs": []
    },
    {
      "cell_type": "markdown",
      "source": [
        "SWIGLU activation\n",
        "\n",
        "$\\text{Swish}_\\beta(x) = x \\sigma(\\beta x)$\n",
        "\n",
        "$\\text{SwiGLU}(x) = \\text{Swish}_\\beta (xW + b) \\otimes (xV + c)$"
      ],
      "metadata": {
        "id": "jwxjSqKVsmCN"
      }
    },
    {
      "cell_type": "code",
      "source": [
        "class SwiGLU(nn.Module):\n",
        "    def __init__(self, size):\n",
        "        super().__init__()\n",
        "        self.hparams = hparams\n",
        "        self.linear_gate = nn.Linear(size, size)\n",
        "        self.linear = nn.Linear(size, size)\n",
        "        self.beta = nn.Parameter(torch.ones(1))\n",
        "        self.register_parameter(\"beta\", self.beta)\n",
        "\n",
        "    def forward(self, x):\n",
        "        swish_gate = self.linear_gate(x) * torch.sigmoid(self.beta * self.linear_gate(x))\n",
        "        out = swish_gate * self.linear(x)\n",
        "        return out"
      ],
      "metadata": {
        "id": "QI_ePDS5slck"
      },
      "execution_count": 15,
      "outputs": []
    },
    {
      "cell_type": "markdown",
      "source": [
        "LLaMa Model"
      ],
      "metadata": {
        "id": "Pk-ZEsJAzhOf"
      }
    },
    {
      "cell_type": "code",
      "source": [
        "class LlamaBlock(nn.Module):\n",
        "    def __init__(self, hparams):\n",
        "        super().__init__()\n",
        "        self.hparams = hparams\n",
        "\n",
        "        self.rms = RMSNorm((hparams['context_window'], hparams['embed_dim']))\n",
        "\n",
        "        self.attention = RoPEMaskedMultiheadAttention(hparams)\n",
        "        self.feedforward = nn.Sequential(\n",
        "            nn.Linear(hparams['embed_dim'], hparams['embed_dim']),\n",
        "            SwiGLU(hparams['embed_dim']),\n",
        "        )\n",
        "\n",
        "    def forward(self, x):\n",
        "        x = self.rms(x) # rms pre-normalization\n",
        "        x = x + self.attention(x)\n",
        "\n",
        "        x = self.rms(x) # rms pre-normalization\n",
        "        x = x + self.feedforward(x)\n",
        "        return x"
      ],
      "metadata": {
        "id": "54OzwaOGw10k"
      },
      "execution_count": 95,
      "outputs": []
    },
    {
      "cell_type": "code",
      "source": [
        "from collections import OrderedDict\n",
        "\n",
        "hparams.update({'num_layers': 4})"
      ],
      "metadata": {
        "id": "zt9p6IT60Ni3"
      },
      "execution_count": 17,
      "outputs": []
    },
    {
      "cell_type": "code",
      "source": [
        "class Llama(nn.Module):\n",
        "    def __init__(self, hparams):\n",
        "        super().__init__()\n",
        "        self.hparams = hparams\n",
        "        self.embeddings = nn.Embedding(hparams['vocab_size'], hparams['embed_dim'])\n",
        "        self.llama_blocks = nn.Sequential(\n",
        "            OrderedDict([(f\"llama_{i}\", LlamaBlock(hparams)) for i in range(hparams['num_layers'])])\n",
        "        )\n",
        "\n",
        "        self.ffn = nn.Sequential(\n",
        "            nn.Linear(hparams['embed_dim'], hparams['embed_dim']),\n",
        "            SwiGLU(hparams['embed_dim']),\n",
        "            nn.Linear(hparams['embed_dim'], hparams['vocab_size']),\n",
        "        )\n",
        "\n",
        "        print(\"model params:\", sum([m.numel() for m in self.parameters()]))\n",
        "\n",
        "    def forward(self, idx, targets=None):\n",
        "        x = self.embeddings(idx)\n",
        "        x = self.llama_blocks(x)\n",
        "        logits = self.ffn(x)\n",
        "\n",
        "        if targets is None:\n",
        "            return logits\n",
        "\n",
        "        else:\n",
        "            loss = F.cross_entropy(logits.view(-1, self.hparams['vocab_size']), targets.view(-1))\n",
        "            return logits, loss"
      ],
      "metadata": {
        "id": "xnveUpmS0lhX"
      },
      "execution_count": 96,
      "outputs": []
    },
    {
      "cell_type": "markdown",
      "source": [
        "Training"
      ],
      "metadata": {
        "id": "tvBJiQj-2YUH"
      }
    },
    {
      "cell_type": "code",
      "source": [
        "hparams.update({'epochs': 1000, 'log_interval': 10})"
      ],
      "metadata": {
        "id": "GNu1I7Na2XqI"
      },
      "execution_count": 20,
      "outputs": []
    },
    {
      "cell_type": "code",
      "source": [
        "hparams"
      ],
      "metadata": {
        "colab": {
          "base_uri": "https://localhost:8080/"
        },
        "id": "0s8hbZCJ8x3s",
        "outputId": "626f3360-b7ac-4fb2-abc5-ab3a3112af8c"
      },
      "execution_count": 21,
      "outputs": [
        {
          "output_type": "execute_result",
          "data": {
            "text/plain": [
              "{'vocab_size': 65,\n",
              " 'batch_size': 8,\n",
              " 'context_window': 16,\n",
              " 'embed_dim': 128,\n",
              " 'num_heads': 8,\n",
              " 'num_layers': 4,\n",
              " 'epochs': 1000,\n",
              " 'log_interval': 10}"
            ]
          },
          "metadata": {},
          "execution_count": 21
        }
      ]
    },
    {
      "cell_type": "code",
      "source": [
        "@torch.no_grad()\n",
        "def evaluate_loss(model):\n",
        "    out = {}\n",
        "    model.eval()\n",
        "    for split in [\"train\", \"val\"]:\n",
        "        losses = []\n",
        "        for _ in range(10):\n",
        "            xb, yb = next(create_batch(dataset, split, hparams['batch_size'], hparams['context_window']))\n",
        "            _, loss = model(xb, yb)\n",
        "            losses.append(loss.item())\n",
        "        out[split] = np.mean(losses)\n",
        "    model.train()\n",
        "    return out"
      ],
      "metadata": {
        "id": "strbgMKn3n04"
      },
      "execution_count": 22,
      "outputs": []
    },
    {
      "cell_type": "code",
      "source": [
        "def train(model, optimizer, scheduler=None, print_logs=False):\n",
        "    losses = []\n",
        "    start_time = time.time()\n",
        "    for epoch in range(hparams['epochs']):\n",
        "        optimizer.zero_grad()\n",
        "\n",
        "        x, y = next(create_batch(dataset, 'train', hparams['batch_size'], hparams['context_window']))\n",
        "        logits, loss = model(x, targets=y)\n",
        "        loss.backward()\n",
        "        optimizer.step()\n",
        "\n",
        "        if scheduler:\n",
        "            scheduler.step()\n",
        "\n",
        "        if epoch % hparams['log_interval'] == 0:\n",
        "            batch_time = time.time() - start_time\n",
        "            x = evaluate_loss(model)\n",
        "            losses += [x]\n",
        "            if print_logs:\n",
        "                print(f\"Epoch {epoch} | val loss {x['val']:.3f} | Time {batch_time:.3f} | ETA in seconds {batch_time * (hparams['epochs'] - epoch)/hparams['log_interval'] :.3f}\")\n",
        "            start_time = time.time()\n",
        "\n",
        "            if scheduler:\n",
        "                print(\"lr: \", scheduler.get_lr())\n",
        "\n",
        "    print(\"validation loss: \", losses[-1]['val'])\n",
        "    return pd.DataFrame(losses).plot()\n"
      ],
      "metadata": {
        "id": "cZay2tu23JNB"
      },
      "execution_count": 23,
      "outputs": []
    },
    {
      "cell_type": "code",
      "source": [
        "llama = Llama(hparams)\n",
        "optimizer = torch.optim.Adam(llama.parameters())"
      ],
      "metadata": {
        "colab": {
          "base_uri": "https://localhost:8080/"
        },
        "id": "tqOi4JQD4F0f",
        "outputId": "f026fa39-e302-4a36-803f-96b3e780cf77"
      },
      "execution_count": 98,
      "outputs": [
        {
          "output_type": "stream",
          "name": "stdout",
          "text": [
            "model params: 2370246\n"
          ]
        }
      ]
    },
    {
      "cell_type": "code",
      "source": [
        "train(llama, optimizer, print_logs=False)"
      ],
      "metadata": {
        "colab": {
          "base_uri": "https://localhost:8080/",
          "height": 470
        },
        "id": "ddY0tZv64SoN",
        "outputId": "cccb92f7-7b07-45ff-d5ee-668b07da576e"
      },
      "execution_count": 99,
      "outputs": [
        {
          "output_type": "stream",
          "name": "stdout",
          "text": [
            "validation loss:  3.2799296617507934\n"
          ]
        },
        {
          "output_type": "execute_result",
          "data": {
            "text/plain": [
              "<Axes: >"
            ]
          },
          "metadata": {},
          "execution_count": 99
        },
        {
          "output_type": "display_data",
          "data": {
            "text/plain": [
              "<Figure size 640x480 with 1 Axes>"
            ],
            "image/png": "[encoded data removed]"
          },
          "metadata": {}
        }
      ]
    },
    {
      "cell_type": "markdown",
      "source": [
        "Generate text using the trained model"
      ],
      "metadata": {
        "id": "xaQVInTr-y54"
      }
    },
    {
      "cell_type": "code",
      "source": [
        "def generate(model, max_new_tokens):\n",
        "    idx = torch.zeros(5, 1).long()\n",
        "    for _ in range(max_new_tokens):\n",
        "        logits = model(idx[:, -hparams['context_window']:])\n",
        "        last_time_step_logits = logits[\n",
        "            :, -1, :\n",
        "        ]  # all the batches (1), last time step, all the logits\n",
        "        p = F.softmax(last_time_step_logits, dim=-1)  # softmax to get probabilities\n",
        "        idx_next = torch.multinomial(\n",
        "            p, num_samples=1\n",
        "        )  # sample from the distribution to get the next token\n",
        "        idx = torch.cat([idx, idx_next], dim=-1)  # append to the sequence\n",
        "    return [decode(x) for x in idx.tolist()]\n"
      ],
      "metadata": {
        "id": "Yt1tbJAB-uWJ"
      },
      "execution_count": 100,
      "outputs": []
    },
    {
      "cell_type": "code",
      "source": [
        "out = generate(llama, 500)"
      ],
      "metadata": {
        "id": "El8_4viH_6Xt"
      },
      "execution_count": 102,
      "outputs": []
    },
    {
      "cell_type": "code",
      "source": [
        "print(out[0])"
      ],
      "metadata": {
        "colab": {
          "base_uri": "https://localhost:8080/"
        },
        "id": "Td1QUYqOIdDy",
        "outputId": "1be47296-ddf8-4094-c191-aa4d3d68df15"
      },
      "execution_count": 105,
      "outputs": [
        {
          "output_type": "stream",
          "name": "stdout",
          "text": [
            "\n",
            "tkynbrrrtrhhaBrcTaf EWntsh ent vo moP wu illwnecls\n",
            "u I gI piyaaioo  snta\n",
            "atmdn w o WP  yr:a snetun \n",
            "tdhlmundtrnwtlsnf h?yoOtoa Nolr dtmtt :tyi  ondiliwUpdta  Dishdrrrm cdudyegi ee dtsn\n",
            "eredeenidaeeroterlite  nahn otg\n",
            "joe \n",
            "ic mhhsat ssdarsduafE: orosal so hwa'oiooepeoro',asW eo ,eO\n",
            "s sn:',ue ,sHiier hegl e wotoeIsrgr,n   , gni, w ela:  euoho ofh  rh ei m utnen.  nwmbhOIhLsneb !nwsmdo \n",
            "e shnnypr e?n,f  \n",
            "  ho o ae:dT mlo y,a :pi,G ihrA\n",
            "EMh s no lodeetRoWegenoer \n",
            "w  oetab,pem,noaoo h  bna'c.eeaE\n",
            "une\n"
          ]
        }
      ]
    }
  ]
}